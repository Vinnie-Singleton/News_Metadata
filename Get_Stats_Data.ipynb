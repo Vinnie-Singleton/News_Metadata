{
 "cells": [
  {
   "cell_type": "code",
   "execution_count": null,
   "id": "2497772a",
   "metadata": {},
   "outputs": [],
   "source": [
    "import pandas as pd\n",
    "from googleapiclient.discovery import build"
   ]
  },
  {
   "cell_type": "code",
   "execution_count": null,
   "id": "3d65144d",
   "metadata": {},
   "outputs": [],
   "source": [
    "api_key = 'Your API key goes here'"
   ]
  },
  {
   "cell_type": "code",
   "execution_count": null,
   "id": "e794db51",
   "metadata": {},
   "outputs": [],
   "source": [
    "youtube = build('youtube', 'v3', developerKey=api_key)"
   ]
  },
  {
   "cell_type": "code",
   "execution_count": null,
   "id": "61030731",
   "metadata": {},
   "outputs": [],
   "source": [
    "# Load the combined datafile\n",
    "df = pd.read_csv('Data/DataFile.csv')"
   ]
  },
  {
   "cell_type": "code",
   "execution_count": null,
   "id": "3aa218f4",
   "metadata": {},
   "outputs": [],
   "source": [
    "# Parse the json data returned by the API call and create a dictionary\n",
    "def extract_data(stats):\n",
    "    # Create lists to store the data\n",
    "    views = []\n",
    "    likes = []\n",
    "    dislikes = []\n",
    "    num_comments = []\n",
    "    video_ids = []\n",
    "    video_durations = []\n",
    "\n",
    "    # Use try blocks for potentially missing data\n",
    "    for stat in stats['items']:\n",
    "        try:\n",
    "            views.append(stat['statistics']['viewCount'])\n",
    "        except:\n",
    "            views.append(None)\n",
    "        try:\n",
    "            likes.append(stat['statistics']['likeCount'])\n",
    "        except:\n",
    "            likes.append(None)\n",
    "        try:\n",
    "            dislikes.append(stat['statistics']['dislikeCount'])\n",
    "        except:\n",
    "            dislikes.append(None)\n",
    "        try:\n",
    "            num_comments.append(stat['statistics']['commentCount'])\n",
    "        except:\n",
    "            num_comments.append(None)\n",
    "        try:\n",
    "            video_ids.append(stat['id'])\n",
    "        except:\n",
    "            video_ids.append(None)\n",
    "        try:\n",
    "            video_durations.append(stat['contentDetails']['duration'])\n",
    "        except:\n",
    "            video_durations.append(None)\n",
    "\n",
    "    # Create and return the new dataframe\n",
    "    final_data = {'Video_ID':video_ids,'Views':views,'Likes':likes,'Dislikes':dislikes,'Num_Comments':num_comments, 'Duration':video_durations}\n",
    "    return final_data"
   ]
  },
  {
   "cell_type": "code",
   "execution_count": null,
   "id": "8c84f27c",
   "metadata": {
    "scrolled": true
   },
   "outputs": [],
   "source": [
    "# Create a base dataframe that will be appended to later\n",
    "video_data = pd.DataFrame(columns=['Video_ID','Views','Likes','Dislikes','Num_Comments','Duration'])\n",
    "sample = []\n",
    "\n",
    "num_records = df.shape[0]\n",
    "\n",
    "# for each video in the datafile\n",
    "for i,vid in enumerate(df.Video_ID):\n",
    "    # Append the record\n",
    "    sample.append(vid)\n",
    "    \n",
    "    # When we have stored 50 (the max number of records allowed in a query)\n",
    "    if len(sample) == 50:\n",
    "        # Print the status of the process\n",
    "        print(f'{round((i/num_records) * 100,2)}% complete, {i}/{num_records}')\n",
    "        \n",
    "        # API call\n",
    "        r = youtube.videos().list(part='contentDetails, statistics',id=sample)\n",
    "        stats = r.execute()\n",
    "\n",
    "        # Extract the data into a dictionary\n",
    "        final_data = extract_data(stats)\n",
    "        \n",
    "        # Transform into a DatFrame\n",
    "        new_data = pd.DataFrame(final_data)\n",
    "        \n",
    "        # Fold into the final Dataframe\n",
    "        video_data = pd.concat([video_data,new_data])\n",
    "        \n",
    "        # Empty the list\n",
    "        sample = []\n",
    "\n",
    "# if there are still records stored in the sample list that have not been scraped\n",
    "if len(sample) > 0:\n",
    "    # Query the remaining data\n",
    "    r = youtube.videos().list(part='contentDetails, statistics',id=sample)\n",
    "    stats = r.execute()\n",
    "    \n",
    "    # Extract the data\n",
    "    final_data = extract_data(stats)\n",
    "    new_data = pd.DataFrame(final_data)\n",
    "\n",
    "    # Store the data\n",
    "    video_data = pd.concat([video_data,new_data])\n",
    "    sample = []"
   ]
  },
  {
   "cell_type": "code",
   "execution_count": null,
   "id": "d573e3a0",
   "metadata": {},
   "outputs": [],
   "source": [
    "# Save the file\n",
    "video_data.to_csv('Data/DataFile_Stats.csv', encoding='utf-8', index=False)"
   ]
  },
  {
   "cell_type": "code",
   "execution_count": null,
   "id": "36e378af",
   "metadata": {
    "scrolled": true
   },
   "outputs": [],
   "source": [
    "# Read in the new stats file\n",
    "stats = pd.read_csv('Data/DataFile_Stats.csv')"
   ]
  },
  {
   "cell_type": "code",
   "execution_count": null,
   "id": "5ee626c5",
   "metadata": {},
   "outputs": [],
   "source": [
    "# Check for issues\n",
    "stats"
   ]
  },
  {
   "cell_type": "code",
   "execution_count": null,
   "id": "26f100b6",
   "metadata": {},
   "outputs": [],
   "source": [
    "# Read in the base video info file\n",
    "df = pd.read_csv('Data/DataFile.csv')"
   ]
  },
  {
   "cell_type": "code",
   "execution_count": null,
   "id": "9ac754ba",
   "metadata": {},
   "outputs": [],
   "source": [
    "# Merge the two files together on the Video_ID column\n",
    "df = df.merge(stats,on='Video_ID')"
   ]
  },
  {
   "cell_type": "code",
   "execution_count": null,
   "id": "3e907636",
   "metadata": {},
   "outputs": [],
   "source": [
    "# Check the file out\n",
    "df"
   ]
  },
  {
   "cell_type": "code",
   "execution_count": null,
   "id": "d3a4632c",
   "metadata": {},
   "outputs": [],
   "source": [
    "# Save the file\n",
    "df.to_csv('Data/Amalgamated_Data_File.csv', encoding='utf-8', index=False)"
   ]
  }
 ],
 "metadata": {
  "kernelspec": {
   "display_name": "Python 3 (ipykernel)",
   "language": "python",
   "name": "python3"
  },
  "language_info": {
   "codemirror_mode": {
    "name": "ipython",
    "version": 3
   },
   "file_extension": ".py",
   "mimetype": "text/x-python",
   "name": "python",
   "nbconvert_exporter": "python",
   "pygments_lexer": "ipython3",
   "version": "3.9.9"
  }
 },
 "nbformat": 4,
 "nbformat_minor": 5
}
