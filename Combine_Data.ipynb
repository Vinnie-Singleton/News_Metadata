{
 "cells": [
  {
   "cell_type": "code",
   "execution_count": null,
   "id": "8604293b",
   "metadata": {},
   "outputs": [],
   "source": [
    "import pandas as pd"
   ]
  },
  {
   "cell_type": "code",
   "execution_count": null,
   "id": "3dc84569",
   "metadata": {},
   "outputs": [],
   "source": [
    "# Load each file into a dataframe\n",
    "\n",
    "base_path = 'Data/'\n",
    "\n",
    "file_name = 'BlazeTV_Data.csv'\n",
    "file_name = base_path+file_name\n",
    "blaze = pd.read_csv(file_name)\n",
    "\n",
    "file_name = 'CNN_Data.csv'\n",
    "file_name = base_path+file_name\n",
    "cnn = pd.read_csv(file_name)\n",
    "\n",
    "file_name = 'FoxNews_Data.csv'\n",
    "file_name = base_path+file_name\n",
    "fox = pd.read_csv(file_name)\n",
    "\n",
    "file_name = 'NBC_Data.csv'\n",
    "file_name = base_path+file_name\n",
    "nbc = pd.read_csv(file_name)\n",
    "\n",
    "file_name = 'PBS_Data.csv'\n",
    "file_name = base_path+file_name\n",
    "pbs = pd.read_csv(file_name)"
   ]
  },
  {
   "cell_type": "code",
   "execution_count": null,
   "id": "c573553a",
   "metadata": {},
   "outputs": [],
   "source": [
    "# Combine the files into a single file\n",
    "df = pd.concat([blaze,cnn,fox,nbc,pbs], keys=['BlazeTV', 'CNN','Fox','NBC','PBS']).reset_index()\n",
    "df.drop('level_1',axis='columns',inplace=True)"
   ]
  },
  {
   "cell_type": "code",
   "execution_count": null,
   "id": "eb85ad68",
   "metadata": {},
   "outputs": [],
   "source": [
    "# Rename the columns\n",
    "df.columns=[\"Media_Source\", \"Published_Date\", \"Video_Title\", \"Video_ID\", \"Thumbnail_Default\", \"Thumbnail_Standard\", \"Thumbnail_Max_Res\"]"
   ]
  },
  {
   "cell_type": "code",
   "execution_count": null,
   "id": "b3411190",
   "metadata": {},
   "outputs": [],
   "source": [
    "# Make sure there are no duplicate videos\n",
    "df.drop_duplicates(subset='Video_ID',inplace=True)"
   ]
  },
  {
   "cell_type": "code",
   "execution_count": null,
   "id": "2becf616",
   "metadata": {},
   "outputs": [],
   "source": [
    "# fix the index\n",
    "df = df.reset_index(drop=True)"
   ]
  },
  {
   "cell_type": "code",
   "execution_count": null,
   "id": "85d0a501",
   "metadata": {},
   "outputs": [],
   "source": [
    "# Save the file\n",
    "out = base_path + 'DataFile.csv'\n",
    "df.to_csv(out, encoding='utf-8', index=False)"
   ]
  }
 ],
 "metadata": {
  "kernelspec": {
   "display_name": "Python 3 (ipykernel)",
   "language": "python",
   "name": "python3"
  },
  "language_info": {
   "codemirror_mode": {
    "name": "ipython",
    "version": 3
   },
   "file_extension": ".py",
   "mimetype": "text/x-python",
   "name": "python",
   "nbconvert_exporter": "python",
   "pygments_lexer": "ipython3",
   "version": "3.9.9"
  }
 },
 "nbformat": 4,
 "nbformat_minor": 5
}
